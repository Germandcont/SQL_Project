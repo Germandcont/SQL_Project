{
 "cells": [
  {
   "cell_type": "code",
   "execution_count": 2,
   "metadata": {},
   "outputs": [
    {
     "name": "stdout",
     "output_type": "stream",
     "text": [
      "Collecting pandasql\n",
      "  Downloading pandasql-0.7.3.tar.gz (26 kB)\n",
      "  Preparing metadata (setup.py): started\n",
      "  Preparing metadata (setup.py): finished with status 'done'\n",
      "Requirement already satisfied: numpy in c:\\users\\germán\\appdata\\local\\programs\\python\\python312\\lib\\site-packages (from pandasql) (2.0.2)\n",
      "Requirement already satisfied: pandas in c:\\users\\germán\\appdata\\local\\programs\\python\\python312\\lib\\site-packages (from pandasql) (2.2.3)\n",
      "Requirement already satisfied: sqlalchemy in c:\\users\\germán\\appdata\\local\\programs\\python\\python312\\lib\\site-packages (from pandasql) (2.0.37)\n",
      "Requirement already satisfied: python-dateutil>=2.8.2 in c:\\users\\germán\\appdata\\local\\programs\\python\\python312\\lib\\site-packages (from pandas->pandasql) (2.9.0.post0)\n",
      "Requirement already satisfied: pytz>=2020.1 in c:\\users\\germán\\appdata\\local\\programs\\python\\python312\\lib\\site-packages (from pandas->pandasql) (2024.2)\n",
      "Requirement already satisfied: tzdata>=2022.7 in c:\\users\\germán\\appdata\\local\\programs\\python\\python312\\lib\\site-packages (from pandas->pandasql) (2024.2)\n",
      "Requirement already satisfied: greenlet!=0.4.17 in c:\\users\\germán\\appdata\\local\\programs\\python\\python312\\lib\\site-packages (from sqlalchemy->pandasql) (3.1.1)\n",
      "Requirement already satisfied: typing-extensions>=4.6.0 in c:\\users\\germán\\appdata\\local\\programs\\python\\python312\\lib\\site-packages (from sqlalchemy->pandasql) (4.12.2)\n",
      "Requirement already satisfied: six>=1.5 in c:\\users\\germán\\appdata\\local\\programs\\python\\python312\\lib\\site-packages (from python-dateutil>=2.8.2->pandas->pandasql) (1.16.0)\n",
      "Building wheels for collected packages: pandasql\n",
      "  Building wheel for pandasql (setup.py): started\n",
      "  Building wheel for pandasql (setup.py): finished with status 'done'\n",
      "  Created wheel for pandasql: filename=pandasql-0.7.3-py3-none-any.whl size=26802 sha256=0c6225db2fa2c077660a4c8c31cae1ff05fe1d44eac02977c0e4dce63d9b65d1\n",
      "  Stored in directory: c:\\users\\germán\\appdata\\local\\pip\\cache\\wheels\\15\\a1\\e7\\6f92f295b5272ae5c02365e6b8fa19cb93f16a537090a1cf27\n",
      "Successfully built pandasql\n",
      "Installing collected packages: pandasql\n",
      "Successfully installed pandasql-0.7.3\n",
      "Note: you may need to restart the kernel to use updated packages.\n"
     ]
    },
    {
     "name": "stderr",
     "output_type": "stream",
     "text": [
      "\n",
      "[notice] A new release of pip is available: 25.0 -> 25.0.1\n",
      "[notice] To update, run: python.exe -m pip install --upgrade pip\n"
     ]
    }
   ],
   "source": [
    "pip install pandasql"
   ]
  },
  {
   "cell_type": "code",
   "execution_count": 5,
   "metadata": {},
   "outputs": [],
   "source": [
    "import pandas as pd\n",
    "from pandasql import sqldf"
   ]
  },
  {
   "cell_type": "code",
   "execution_count": 9,
   "metadata": {},
   "outputs": [],
   "source": [
    "df = pd.read_csv(r\"C:\\Users\\Germán\\Github\\SQL_Project\\data\\orders.csv\")"
   ]
  },
  {
   "cell_type": "code",
   "execution_count": 10,
   "metadata": {},
   "outputs": [
    {
     "name": "stdout",
     "output_type": "stream",
     "text": [
      "   Unnamed: 0  order_id  order_date  product_id  quantity  total_price\n",
      "0           0         1  2023-07-13          24         9      3726.45\n",
      "1           1         2  2023-02-08          75         1       182.71\n",
      "2           2         3  2023-02-14           6         6      2879.58\n",
      "3           3         4  2023-10-07          16         7      2218.37\n",
      "4           4         5  2023-02-03         100        10      3540.80\n",
      "5           5         6  2023-12-03          39         3       752.40\n",
      "6           6         7  2023-02-26          10         9      3340.44\n",
      "7           7         8  2023-02-11          80         4      1720.96\n",
      "8           8         9  2023-09-02          72         6      1834.56\n",
      "9           9        10  2023-10-11          33         6      1809.12\n"
     ]
    }
   ],
   "source": [
    "query = \"SELECT * FROM df LIMIT 10;\"  # Ver las primeras 10 filas\n",
    "resultado = sqldf(query)\n",
    "print(resultado)\n"
   ]
  },
  {
   "cell_type": "markdown",
   "metadata": {},
   "source": [
    "# Nulos"
   ]
  },
  {
   "cell_type": "code",
   "execution_count": 11,
   "metadata": {},
   "outputs": [
    {
     "name": "stdout",
     "output_type": "stream",
     "text": [
      "   nulos\n",
      "0      0\n"
     ]
    }
   ],
   "source": [
    "query = \"SELECT COUNT(*) AS nulos FROM df WHERE order_id IS NULL;\"\n",
    "resultado = sqldf(query)\n",
    "print(resultado)\n"
   ]
  },
  {
   "cell_type": "code",
   "execution_count": 12,
   "metadata": {},
   "outputs": [
    {
     "name": "stdout",
     "output_type": "stream",
     "text": [
      "Unnamed: 0     0\n",
      "order_id       0\n",
      "order_date     0\n",
      "product_id     0\n",
      "quantity       0\n",
      "total_price    0\n",
      "dtype: int64\n"
     ]
    }
   ],
   "source": [
    "nulos_por_columna = df.isnull().sum()\n",
    "print(nulos_por_columna)"
   ]
  },
  {
   "cell_type": "markdown",
   "metadata": {},
   "source": [
    "# Duplicados"
   ]
  },
  {
   "cell_type": "code",
   "execution_count": 13,
   "metadata": {},
   "outputs": [
    {
     "name": "stdout",
     "output_type": "stream",
     "text": [
      "Empty DataFrame\n",
      "Columns: [order_id, COUNT(*)]\n",
      "Index: []\n"
     ]
    }
   ],
   "source": [
    "query = \"SELECT order_id, COUNT(*) FROM df GROUP BY order_id HAVING COUNT(*) > 1;\"\n",
    "resultado = sqldf(query)\n",
    "print(resultado)\n",
    "#No hay order_id repetidos "
   ]
  },
  {
   "cell_type": "code",
   "execution_count": 16,
   "metadata": {},
   "outputs": [
    {
     "data": {
      "text/plain": [
       "np.int64(0)"
      ]
     },
     "execution_count": 16,
     "metadata": {},
     "output_type": "execute_result"
    }
   ],
   "source": [
    "df.duplicated().sum()"
   ]
  },
  {
   "cell_type": "markdown",
   "metadata": {},
   "source": [
    "# Algunas estadísticas"
   ]
  },
  {
   "cell_type": "code",
   "execution_count": 14,
   "metadata": {},
   "outputs": [
    {
     "name": "stdout",
     "output_type": "stream",
     "text": [
      "   MIN(total_price)  MAX(total_price)  AVG(total_price)\n",
      "0             15.49            4973.9         1455.4539\n"
     ]
    }
   ],
   "source": [
    "query = \"SELECT MIN(total_price), MAX(total_price), AVG(total_price) FROM df;\"\n",
    "resultado = sqldf(query)\n",
    "print(resultado)\n"
   ]
  }
 ],
 "metadata": {
  "kernelspec": {
   "display_name": "Python 3",
   "language": "python",
   "name": "python3"
  },
  "language_info": {
   "codemirror_mode": {
    "name": "ipython",
    "version": 3
   },
   "file_extension": ".py",
   "mimetype": "text/x-python",
   "name": "python",
   "nbconvert_exporter": "python",
   "pygments_lexer": "ipython3",
   "version": "3.12.7"
  }
 },
 "nbformat": 4,
 "nbformat_minor": 2
}
